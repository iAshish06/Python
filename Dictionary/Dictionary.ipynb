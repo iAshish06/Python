{
 "cells": [
  {
   "cell_type": "code",
   "execution_count": 1,
   "metadata": {},
   "outputs": [],
   "source": [
    "import json\n",
    "import difflib  #python library to compare text\n",
    "from difflib import SequenceMatcher as sm   #For comparing text in case of user enter wrong text\n",
    "from difflib import get_close_matches as gcm "
   ]
  },
  {
   "cell_type": "code",
   "execution_count": 2,
   "metadata": {},
   "outputs": [],
   "source": [
    "data_file=open('data.json')\n",
    "data1 = json.load(data_file)    #Loading Json file and it can be written as data=json.load(open(filepath.json)) as well\n",
    "def translate(word):    #Translation\n",
    "    word=word.lower()      #Since Dictionary contains words in only lower format so we have to transform user input in lower case as well\n",
    "    if word in data1:\n",
    "        return data1[word]\n",
    "    elif len(gcm(word,data1.keys()))>0:\n",
    "        yn=input('Did you mean %s instead? Enter Y if yes or N if no' % gcm(word,data1.keys())[0])      # if user mistakenly entred wrong word\n",
    "        if yn =='Y':\n",
    "            return data1[gcm(word,data1.keys())[0]]     #If yes then print the meaning of right word\n",
    "        elif yn=='N':\n",
    "            return ('Word not found')\n",
    "        else:\n",
    "            return('We did not understood your query. Try again.')\n",
    "    else:\n",
    "        return ('word not found')   #If word not found\n",
    "    "
   ]
  },
  {
   "cell_type": "code",
   "execution_count": 3,
   "metadata": {},
   "outputs": [
    {
     "name": "stdout",
     "output_type": "stream",
     "text": [
      "Reign. [Obs.] Spenser.\n",
      "\n",
      "Water falling in drops from the clouds; the descent of water from the clouds in drops. Rain is water by the heat of the sun divided into very small parts ascending in the air, till, encountering the cold, it be condensed into clouds, and descends in drops. Ray. Fair days have oft contracted wind and rain. Milton. Note: Rain is distinguished from mist by the size of the drops, which are distinctly visible. When water falls in very small drops or particles, it is called mist; and fog is composed of particles so fine as to be not only individually indistinguishable, but to float or be suspended in the air. See Fog, and Mist. Rain band (Meteorol.), a dark band in the yellow portion of the solar spectrum near the sodium line, caused by the presence of watery vapor in the atmosphere, and hence sometimes used in weather predictions. -- Rain bird (ZoÃ¶l.), the yaffle, or green woodpecker. [Prov. Eng.] The name is also applied to various other birds, as to Saurothera vetula of the West Indies. -- Rain fowl (ZoÃ¶l.), the channel-bill cuckoo (Scythrops NovÃ¦- HollandiÃ¦) of Australia. -- Rain gauge, an instrument of various forms measuring the quantity of rain that falls at any given place in a given time; a pluviometer; an ombrometer. -- Rain goose (ZoÃ¶l.), the red-throated diver, or loon. [Prov. Eng.] -- Rain prints (Geol.), markings on the surfaces of stratified rocks, presenting an appearance similar to those made by rain on mud and sand, and believed to have been so produced. -- Rain quail. (ZoÃ¶l.) See Quail, n., 1. -- Rain water, water that has fallen from the clouds in rain.\n",
      "\n",
      "1. To fall in drops from the clouds, as water; used mostly with it for a nominative; as, it rains. The rain it raineth every day. Shak. 2. To fall or drop like water from the clouds; as, tears rained from their eyes.\n",
      "\n",
      "1. To pour or shower down from above, like rain from the clouds. Then said the Lord unto Moses, Behold, I will rain bread from heaven for you. Ex. xvi. 4. 2. To bestow in a profuse or abundant manner; as, to rain favors upon a person.\n"
     ]
    }
   ],
   "source": [
    "word = input('Enter word: ')\n",
    "output = translate(word)\n",
    "if output == list:\n",
    "    for item in output:     #For loop to get output without commas and brackets as it is stored in json file like that\n",
    "        print(item)\n",
    "else:\n",
    "    print(output)"
   ]
  }
 ],
 "metadata": {
  "kernelspec": {
   "display_name": "Python 3",
   "language": "python",
   "name": "python3"
  },
  "language_info": {
   "codemirror_mode": {
    "name": "ipython",
    "version": 3
   },
   "file_extension": ".py",
   "mimetype": "text/x-python",
   "name": "python",
   "nbconvert_exporter": "python",
   "pygments_lexer": "ipython3",
   "version": "3.11.4"
  },
  "orig_nbformat": 4
 },
 "nbformat": 4,
 "nbformat_minor": 2
}
